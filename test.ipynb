{
 "cells": [
  {
   "cell_type": "code",
   "execution_count": null,
   "source": [],
   "outputs": [],
   "metadata": {}
  }
 ],
 "metadata": {
  "orig_nbformat": 4,
  "language_info": {
   "name": "python",
   "version": "3.7.10"
  },
  "kernelspec": {
   "name": "python3",
   "display_name": "Python 3.7.10 64-bit ('py7': conda)"
  },
  "interpreter": {
   "hash": "388d8f47d0ba30d087ce33c79ca8c692e4796c5ab5083e371d6c8e21ab09f3f7"
  }
 },
 "nbformat": 4,
 "nbformat_minor": 2
}